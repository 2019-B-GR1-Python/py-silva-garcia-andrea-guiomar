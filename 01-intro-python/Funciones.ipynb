{
 "cells": [
  {
   "cell_type": "code",
   "execution_count": 1,
   "metadata": {},
   "outputs": [
    {
     "name": "stdout",
     "output_type": "stream",
     "text": [
      "Hola Andrea\n"
     ]
    }
   ],
   "source": [
    "#funciones\n",
    "def hola_mundo():\n",
    "    print(\"Hola Andrea\")\n",
    "    \n",
    "hola_mundo()"
   ]
  },
  {
   "cell_type": "code",
   "execution_count": 2,
   "metadata": {},
   "outputs": [
    {
     "name": "stdout",
     "output_type": "stream",
     "text": [
      "Hola Andrea\n",
      "<class 'NoneType'>\n"
     ]
    }
   ],
   "source": [
    "print(type(hola_mundo()))"
   ]
  },
  {
   "cell_type": "code",
   "execution_count": 4,
   "metadata": {},
   "outputs": [
    {
     "ename": "TypeError",
     "evalue": "sumar_do_numeros() missing 2 required positional arguments: 'num_uno' and 'num_dos'",
     "output_type": "error",
     "traceback": [
      "\u001b[1;31m---------------------------------------------------------------------------\u001b[0m",
      "\u001b[1;31mTypeError\u001b[0m                                 Traceback (most recent call last)",
      "\u001b[1;32m<ipython-input-4-9db4be3a7fbd>\u001b[0m in \u001b[0;36m<module>\u001b[1;34m\u001b[0m\n\u001b[0;32m      1\u001b[0m \u001b[1;32mdef\u001b[0m \u001b[0msumar_do_numeros\u001b[0m\u001b[1;33m(\u001b[0m\u001b[0mnum_uno\u001b[0m\u001b[1;33m,\u001b[0m \u001b[0mnum_dos\u001b[0m\u001b[1;33m)\u001b[0m\u001b[1;33m:\u001b[0m\u001b[1;33m\u001b[0m\u001b[1;33m\u001b[0m\u001b[0m\n\u001b[0;32m      2\u001b[0m     \u001b[1;32mreturn\u001b[0m \u001b[0mnum_uno\u001b[0m \u001b[1;33m+\u001b[0m \u001b[0mnum_dos\u001b[0m\u001b[1;33m\u001b[0m\u001b[1;33m\u001b[0m\u001b[0m\n\u001b[1;32m----> 3\u001b[1;33m \u001b[0msumar_do_numeros\u001b[0m\u001b[1;33m(\u001b[0m\u001b[1;33m)\u001b[0m\u001b[1;33m\u001b[0m\u001b[1;33m\u001b[0m\u001b[0m\n\u001b[0m",
      "\u001b[1;31mTypeError\u001b[0m: sumar_do_numeros() missing 2 required positional arguments: 'num_uno' and 'num_dos'"
     ]
    }
   ],
   "source": [
    "def sumar_do_numeros(num_uno, num_dos):\n",
    "    return num_uno + num_dos\n",
    "sumar_do_numeros()"
   ]
  },
  {
   "cell_type": "code",
   "execution_count": 6,
   "metadata": {},
   "outputs": [
    {
     "name": "stdout",
     "output_type": "stream",
     "text": [
      "suma 3\n"
     ]
    }
   ],
   "source": [
    "suma= sumar_do_numeros(1,2)\n",
    "print(f\"suma {suma}\")"
   ]
  },
  {
   "cell_type": "code",
   "execution_count": 8,
   "metadata": {},
   "outputs": [
    {
     "name": "stdout",
     "output_type": "stream",
     "text": [
      "EPN\n",
      "ESPE\n"
     ]
    }
   ],
   "source": [
    "def imprimir_universidad(name = 'EPN'):\n",
    "    print(f\"{name}\")\n",
    "imprimir_universidad()\n",
    "imprimir_universidad(\"ESPE\")"
   ]
  },
  {
   "cell_type": "code",
   "execution_count": 19,
   "metadata": {},
   "outputs": [
    {
     "name": "stdout",
     "output_type": "stream",
     "text": [
      "Color Azul\n",
      "Placa def-456\n",
      "Caballos de fuerza 3500\n",
      "Año 2005\n",
      "Color Café\n",
      "Placa ab-234\n",
      "Caballos de fuerza 1650\n",
      "Año 1980\n"
     ]
    }
   ],
   "source": [
    "def imprimir_carro(color, placa, hp, anio=1990):\n",
    "    print(f\"Color {color}\")\n",
    "    print(f\"Placa {placa}\")\n",
    "    print(f\"Caballos de fuerza {hp}\")\n",
    "    print(f\"Año {anio}\")\n",
    "#imprimir_carro(\"negro\",\"pcda-1487\",2000,1970)\n",
    "imprimir_carro(anio = 2005,\n",
    "              color = \"Azul\",\n",
    "              placa= \"def-456\",\n",
    "              hp = 3500)\n",
    "#named parameters\n",
    "imprimir_carro(\"Café\",anio= 1980,placa= \"ab-234\",hp=1650)\n"
   ]
  },
  {
   "cell_type": "code",
   "execution_count": 29,
   "metadata": {},
   "outputs": [
    {
     "name": "stdout",
     "output_type": "stream",
     "text": [
      "<class 'int'>\n",
      "<class 'tuple'>\n"
     ]
    },
    {
     "ename": "NameError",
     "evalue": "name 'tupla' is not defined",
     "output_type": "error",
     "traceback": [
      "\u001b[1;31m---------------------------------------------------------------------------\u001b[0m",
      "\u001b[1;31mNameError\u001b[0m                                 Traceback (most recent call last)",
      "\u001b[1;32m<ipython-input-29-92d83a0a0dd4>\u001b[0m in \u001b[0;36m<module>\u001b[1;34m\u001b[0m\n\u001b[0;32m     13\u001b[0m         \u001b[1;32mreturn\u001b[0m \u001b[0msuma\u001b[0m\u001b[1;33m\u001b[0m\u001b[1;33m\u001b[0m\u001b[0m\n\u001b[0;32m     14\u001b[0m \u001b[1;33m\u001b[0m\u001b[0m\n\u001b[1;32m---> 15\u001b[1;33m \u001b[0msuma_numeros\u001b[0m\u001b[1;33m(\u001b[0m\u001b[1;36m1\u001b[0m\u001b[1;33m,\u001b[0m\u001b[1;36m2\u001b[0m\u001b[1;33m,\u001b[0m\u001b[1;36m3\u001b[0m\u001b[1;33m)\u001b[0m\u001b[1;33m\u001b[0m\u001b[1;33m\u001b[0m\u001b[0m\n\u001b[0m\u001b[0;32m     16\u001b[0m \u001b[1;33m\u001b[0m\u001b[0m\n",
      "\u001b[1;32m<ipython-input-29-92d83a0a0dd4>\u001b[0m in \u001b[0;36msuma_numeros\u001b[1;34m(primer_numero, *numeros)\u001b[0m\n\u001b[0;32m      3\u001b[0m     \u001b[0mprint\u001b[0m\u001b[1;33m(\u001b[0m\u001b[0mtype\u001b[0m\u001b[1;33m(\u001b[0m\u001b[0mprimer_numero\u001b[0m\u001b[1;33m)\u001b[0m\u001b[1;33m)\u001b[0m\u001b[1;33m\u001b[0m\u001b[1;33m\u001b[0m\u001b[0m\n\u001b[0;32m      4\u001b[0m     \u001b[0mprint\u001b[0m\u001b[1;33m(\u001b[0m\u001b[0mtype\u001b[0m\u001b[1;33m(\u001b[0m\u001b[0mnumeros\u001b[0m\u001b[1;33m)\u001b[0m\u001b[1;33m)\u001b[0m\u001b[1;33m\u001b[0m\u001b[1;33m\u001b[0m\u001b[0m\n\u001b[1;32m----> 5\u001b[1;33m     \u001b[0mprint\u001b[0m\u001b[1;33m(\u001b[0m\u001b[0mtype\u001b[0m\u001b[1;33m(\u001b[0m\u001b[0mtupla\u001b[0m\u001b[1;33m)\u001b[0m\u001b[1;33m)\u001b[0m\u001b[1;33m\u001b[0m\u001b[1;33m\u001b[0m\u001b[0m\n\u001b[0m\u001b[0;32m      6\u001b[0m     \u001b[0mlongitud\u001b[0m \u001b[1;33m=\u001b[0m \u001b[0mlen\u001b[0m\u001b[1;33m(\u001b[0m\u001b[0mnumeros\u001b[0m\u001b[1;33m)\u001b[0m\u001b[1;33m\u001b[0m\u001b[1;33m\u001b[0m\u001b[0m\n\u001b[0;32m      7\u001b[0m     \u001b[1;32mif\u001b[0m\u001b[1;33m(\u001b[0m\u001b[0mlongitud\u001b[0m \u001b[1;33m==\u001b[0m\u001b[1;36m0\u001b[0m\u001b[1;33m)\u001b[0m\u001b[1;33m:\u001b[0m\u001b[1;33m\u001b[0m\u001b[1;33m\u001b[0m\u001b[0m\n",
      "\u001b[1;31mNameError\u001b[0m: name 'tupla' is not defined"
     ]
    }
   ],
   "source": [
    "#suma de infinitos numeros usando parametros infinitos\n",
    "def suma_numeros(primer_numero, *numeros):\n",
    "    print(type(primer_numero))\n",
    "    print(type(numeros))\n",
    "    print(type(tupla))\n",
    "    longitud = len(numeros)\n",
    "    if(longitud ==0):\n",
    "        return primer_numero\n",
    "    else:\n",
    "        suma= 0 + primer_numero\n",
    "        for numero in numeros:\n",
    "            suma = suma +numero\n",
    "        return suma\n",
    "   \n",
    "suma_numeros(1,2,3)\n",
    "    "
   ]
  },
  {
   "cell_type": "code",
   "execution_count": 36,
   "metadata": {},
   "outputs": [
    {
     "name": "stdout",
     "output_type": "stream",
     "text": [
      "<class 'dict'>\n",
      "{'tiempo_espera': 10, 'memoria': 200, 'cpu': 345}\n"
     ]
    }
   ],
   "source": [
    "def imprimir_configuracion(nombre, \n",
    "                            valor= 10, \n",
    "                            **key_word_arguments):\n",
    "    print(type(key_word_arguments))\n",
    "    print(key_word_arguments)\n",
    "    \n",
    "imprimir_configuracion(nombre=\"config_1\",\n",
    "                       valor=20,\n",
    "                      tiempo_espera =10,\n",
    "                      memoria= 200,\n",
    "                      cpu= 345)\n",
    "    "
   ]
  }
 ],
 "metadata": {
  "kernelspec": {
   "display_name": "Python 3",
   "language": "python",
   "name": "python3"
  },
  "language_info": {
   "codemirror_mode": {
    "name": "ipython",
    "version": 3
   },
   "file_extension": ".py",
   "mimetype": "text/x-python",
   "name": "python",
   "nbconvert_exporter": "python",
   "pygments_lexer": "ipython3",
   "version": "3.7.3"
  }
 },
 "nbformat": 4,
 "nbformat_minor": 2
}
