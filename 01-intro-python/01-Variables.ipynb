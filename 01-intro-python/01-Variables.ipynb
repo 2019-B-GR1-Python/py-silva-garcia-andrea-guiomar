{
 "cells": [
  {
   "cell_type": "code",
   "execution_count": 1,
   "metadata": {},
   "outputs": [
    {
     "name": "stdout",
     "output_type": "stream",
     "text": [
      "Hola mundo\n"
     ]
    }
   ],
   "source": [
    "print(\"Hola mundo\")"
   ]
  },
  {
   "cell_type": "code",
   "execution_count": 2,
   "metadata": {},
   "outputs": [
    {
     "name": "stdout",
     "output_type": "stream",
     "text": [
      "<class 'int'>\n",
      "<class 'float'>\n",
      "<class 'str'>\n",
      "<class 'str'>\n",
      "<class 'bool'>\n",
      "<class 'bool'>\n",
      "<class 'NoneType'>\n"
     ]
    }
   ],
   "source": [
    "## Variables Primitivas\n",
    "entero = 3\n",
    "decimal = 1.1\n",
    "nombre = \"Andrea\"\n",
    "segndo_nombre=\"Guiomar\"\n",
    "casado = False\n",
    "hijos = None\n",
    "profesor = True\n",
    "print(type(entero))  #int\n",
    "print(type(decimal))  #float\n",
    "print(type(nombre))  # str\n",
    "print (type(segndo_nombre))  # str\n",
    "print(type(casado))  #boolean\n",
    "print(type(profesor))  #boolean\n",
    "print(type(hijos))  #NoneType\n",
    "\n",
    "\n",
    "texto = \"\"\"fgujghihikhihgshkhds\"\"\"\n"
   ]
  },
  {
   "cell_type": "code",
   "execution_count": 3,
   "metadata": {},
   "outputs": [
    {
     "name": "stdout",
     "output_type": "stream",
     "text": [
      "3\n",
      "1.1\n"
     ]
    }
   ],
   "source": [
    "print(entero)\n",
    "entero= decimal\n",
    "print(entero)\n"
   ]
  },
  {
   "cell_type": "code",
   "execution_count": 13,
   "metadata": {},
   "outputs": [
    {
     "name": "stdout",
     "output_type": "stream",
     "text": [
      "<class 'tuple'>\n",
      "<class 'list'>\n",
      "<class 'dict'>\n",
      "Falsy\n",
      "Truty\n",
      "Falsy\n",
      "Truty\n",
      "Truty\n",
      "Falsy\n",
      "Truty\n",
      "Falsy\n",
      "Falsy\n",
      "Truty\n",
      "Falsy\n",
      "Truty\n",
      "Falsy\n",
      "Truty\n"
     ]
    }
   ],
   "source": [
    "#Condicion (boolean)\n",
    "#trusty\n",
    "#falsy\n",
    "tuplas = ()\n",
    "listas =[]\n",
    "diccionarios = {}\n",
    "\n",
    "print(type(tuplas)) #tuple\n",
    "print(type(listas)) #list\n",
    "print(type(diccionarios))  #dict\n",
    "\n",
    "\n",
    "\n",
    "if(\"\"):  #String vacio falsy, un string con al menos un caracter es truty\n",
    "    print(\"Truty\")\n",
    "else:\n",
    "    print(\"Falsy\")\n",
    "    \n",
    "if(\"a\"):  #String vacio falsy, un string con al menos un caracter es truty\n",
    "    print(\"Truty\")\n",
    "else:\n",
    "    print(\"Falsy\")\n",
    "\n",
    "if(0):  \n",
    "    print(\"Truty\")\n",
    "else:\n",
    "    print(\"Falsy\")\n",
    "\n",
    "if(-1):   #cualquier numero que no sea 0 es truty\n",
    "    print(\"Truty\")\n",
    "else:\n",
    "    print(\"Falsy\")\n",
    "    \n",
    "    \n",
    "    \n",
    "if(1):  \n",
    "    print(\"Truty\")\n",
    "else:\n",
    "    print(\"Falsy\")\n",
    "    \n",
    "if(0.00):  \n",
    "    print(\"Truty\")\n",
    "else:\n",
    "    print(\"Falsy\")\n",
    "\n",
    "\n",
    "\n",
    "if(0.01): \n",
    "    print(\"Truty\")\n",
    "else:\n",
    "    print(\"Falsy\")\n",
    "    \n",
    "if(None):  \n",
    "    print(\"Truty\")\n",
    "else:\n",
    "    print(\"Falsy\")\n",
    "\n",
    "if(()):  #Falsy\n",
    "    print(\"Truty\")\n",
    "else:\n",
    "    print(\"Falsy\")\n",
    "\n",
    "    \n",
    "    \n",
    "if((1,2)):  #truty\n",
    "    print(\"Truty\")\n",
    "else:\n",
    "    print(\"Falsy\")\n",
    "    \n",
    "    \n",
    "if([]):  #falsy\n",
    "    print(\"Truty\")\n",
    "else:\n",
    "    print(\"Falsy\")\n",
    "\n",
    "    \n",
    "if([\"a\",\"b\"]):  #truty\n",
    "    print(\"Truty\")\n",
    "else:\n",
    "    print(\"Falsy\")\n",
    "\n",
    "\n",
    "if({}):  #falsy\n",
    "    print(\"Truty\")\n",
    "else:\n",
    "    print(\"Falsy\")\n",
    "    \n",
    "    \n",
    "if({nombre: \"Andrea\"}):  #truty\n",
    "    print(\"Truty\")\n",
    "else:\n",
    "    print(\"Falsy\")"
   ]
  },
  {
   "cell_type": "code",
   "execution_count": 18,
   "metadata": {},
   "outputs": [
    {
     "data": {
      "text/plain": [
       "[3, 4, 5]"
      ]
     },
     "execution_count": 18,
     "metadata": {},
     "output_type": "execute_result"
    }
   ],
   "source": [
    "arreglo = [1, 2, 3, 4, 5, 6, 7, 8, 9, 10]\n",
    "arreglo[2]\n",
    "arreglo[2:5] #filtrar ([2,5[)\n",
    "\n",
    "\n"
   ]
  },
  {
   "cell_type": "code",
   "execution_count": 17,
   "metadata": {},
   "outputs": [
    {
     "data": {
      "text/plain": [
       "[3, 4, 5, 6, 7, 8, 9, 10]"
      ]
     },
     "execution_count": 17,
     "metadata": {},
     "output_type": "execute_result"
    }
   ],
   "source": [
    "arreglo[2:]"
   ]
  },
  {
   "cell_type": "code",
   "execution_count": 22,
   "metadata": {},
   "outputs": [
    {
     "data": {
      "text/plain": [
       "[3, 4, 5, 6, 7, 8, 9]"
      ]
     },
     "execution_count": 22,
     "metadata": {},
     "output_type": "execute_result"
    }
   ],
   "source": [
    "arreglo[:7]\n",
    "arreglo[-1]\n",
    "arreglo[2:-1] #filtrar ([2,-1[)\n",
    "\n"
   ]
  },
  {
   "cell_type": "code",
   "execution_count": 26,
   "metadata": {},
   "outputs": [
    {
     "data": {
      "text/plain": [
       "[2, 3, 4, 5, 6, 7, 8, 9, 10]"
      ]
     },
     "execution_count": 26,
     "metadata": {},
     "output_type": "execute_result"
    }
   ],
   "source": [
    "arreglo[-8:-1]\n",
    "arreglo[-9:]\n"
   ]
  },
  {
   "cell_type": "code",
   "execution_count": 28,
   "metadata": {},
   "outputs": [
    {
     "data": {
      "text/plain": [
       "[1, 2, 3, 4, 5, 6, 7, 8, 9, 10]"
      ]
     },
     "execution_count": 28,
     "metadata": {},
     "output_type": "execute_result"
    }
   ],
   "source": [
    "arreglo[:-2]\n",
    "arreglo[:]\n"
   ]
  },
  {
   "cell_type": "code",
   "execution_count": 29,
   "metadata": {},
   "outputs": [
    {
     "name": "stdout",
     "output_type": "stream",
     "text": [
      "<class 'bool'>\n",
      "True\n"
     ]
    }
   ],
   "source": [
    "print(type(7 in arreglo))\n",
    "print(7 in arreglo)"
   ]
  },
  {
   "cell_type": "code",
   "execution_count": 30,
   "metadata": {},
   "outputs": [
    {
     "data": {
      "text/plain": [
       "10"
      ]
     },
     "execution_count": 30,
     "metadata": {},
     "output_type": "execute_result"
    }
   ],
   "source": [
    "len(arreglo) # 10 elementos"
   ]
  },
  {
   "cell_type": "raw",
   "metadata": {},
   "source": []
  },
  {
   "cell_type": "code",
   "execution_count": 38,
   "metadata": {},
   "outputs": [
    {
     "ename": "TypeError",
     "evalue": "integer argument expected, got float",
     "output_type": "error",
     "traceback": [
      "\u001b[1;31m---------------------------------------------------------------------------\u001b[0m",
      "\u001b[1;31mTypeError\u001b[0m                                 Traceback (most recent call last)",
      "\u001b[1;32m<ipython-input-38-682b0384f0eb>\u001b[0m in \u001b[0;36m<module>\u001b[1;34m\u001b[0m\n\u001b[0;32m      3\u001b[0m \u001b[1;33m\u001b[0m\u001b[0m\n\u001b[0;32m      4\u001b[0m \u001b[0marreglo\u001b[0m\u001b[1;33m.\u001b[0m\u001b[0minsert\u001b[0m\u001b[1;33m(\u001b[0m\u001b[1;36m1\u001b[0m\u001b[1;33m,\u001b[0m\u001b[1;36m1.1\u001b[0m\u001b[1;33m)\u001b[0m\u001b[1;33m\u001b[0m\u001b[1;33m\u001b[0m\u001b[0m\n\u001b[1;32m----> 5\u001b[1;33m \u001b[0marreglo\u001b[0m\u001b[1;33m.\u001b[0m\u001b[0mpop\u001b[0m\u001b[1;33m(\u001b[0m\u001b[1;36m1.1\u001b[0m\u001b[1;33m)\u001b[0m\u001b[1;33m\u001b[0m\u001b[1;33m\u001b[0m\u001b[0m\n\u001b[0m",
      "\u001b[1;31mTypeError\u001b[0m: integer argument expected, got float"
     ]
    }
   ],
   "source": [
    "#arreglo.append(11)\n",
    "#arreglo.pop()\n",
    "\n",
    "arreglo.insert(1,1.1)\n",
    "arreglo"
   ]
  },
  {
   "cell_type": "code",
   "execution_count": 42,
   "metadata": {},
   "outputs": [
    {
     "name": "stdout",
     "output_type": "stream",
     "text": [
      "1\n",
      "1.1\n",
      "1.1\n",
      "1.1\n",
      "1.1\n",
      "1.1\n",
      "2\n",
      "3\n",
      "4\n",
      "5\n",
      "6\n",
      "7\n",
      "8\n",
      "9\n",
      "10\n",
      "0\n",
      "1\n",
      "2\n",
      "3\n",
      "4\n",
      "5\n",
      "6\n",
      "7\n",
      "8\n",
      "9\n"
     ]
    }
   ],
   "source": [
    "for numero in arreglo:\n",
    "    print(numero)\n",
    "\n",
    "contador = 0\n",
    "\n",
    "while contador < 10:\n",
    "    print(contador)\n",
    "    contador+= 1"
   ]
  },
  {
   "cell_type": "code",
   "execution_count": 43,
   "metadata": {},
   "outputs": [
    {
     "data": {
      "text/plain": [
       "(1, 2, 3, 4, 5)"
      ]
     },
     "execution_count": 43,
     "metadata": {},
     "output_type": "execute_result"
    }
   ],
   "source": [
    "tupla_numeros = (1,2,3,4,5)\n",
    "tupla_numeros"
   ]
  },
  {
   "cell_type": "code",
   "execution_count": 46,
   "metadata": {},
   "outputs": [
    {
     "data": {
      "text/plain": [
       "True"
      ]
     },
     "execution_count": 46,
     "metadata": {},
     "output_type": "execute_result"
    }
   ],
   "source": [
    "tupla_numeros[0:3]\n",
    "len(tupla_numeros)\n",
    "3 in tupla_numeros"
   ]
  },
  {
   "cell_type": "code",
   "execution_count": 51,
   "metadata": {},
   "outputs": [],
   "source": [
    "andrea={\n",
    "    \"nombre\": \"Andrea\",\n",
    "    \"apellido\": \"Silva\",\n",
    "    \"edad\": 21,\n",
    "    \"sueldo\": 1.1,\n",
    "    \"hijos\": None,\n",
    "    \"casado\": False,\n",
    "    \"mascotas\":[{\"nombre\": \"cachetes\"}]\n",
    "}"
   ]
  },
  {
   "cell_type": "code",
   "execution_count": 63,
   "metadata": {},
   "outputs": [
    {
     "data": {
      "text/plain": [
       "True"
      ]
     },
     "execution_count": 63,
     "metadata": {},
     "output_type": "execute_result"
    }
   ],
   "source": [
    "andrea[\"apellido\"]=\"Sanchez\"\n",
    "andrea[\"apellido\"]\n",
    "\n",
    "andrea.keys()\n",
    "\"apellido\" in andrea.values()\n",
    "\"apellido\" in andrea.keys()"
   ]
  },
  {
   "cell_type": "code",
   "execution_count": 52,
   "metadata": {},
   "outputs": [
    {
     "data": {
      "text/plain": [
       "{'nombre': 'Andrea',\n",
       " 'apellido': 'Silva',\n",
       " 'edad': 21,\n",
       " 'sueldo': 1.1,\n",
       " 'hijos': None,\n",
       " 'casado': False,\n",
       " 'mascotas': [{'nombre': 'cachetes'}]}"
      ]
     },
     "execution_count": 52,
     "metadata": {},
     "output_type": "execute_result"
    }
   ],
   "source": [
    "andrea"
   ]
  },
  {
   "cell_type": "code",
   "execution_count": 65,
   "metadata": {},
   "outputs": [
    {
     "data": {
      "text/plain": [
       "False"
      ]
     },
     "execution_count": 65,
     "metadata": {},
     "output_type": "execute_result"
    }
   ],
   "source": [
    "1 == 1 or 2 == 3  #true\n",
    "\n",
    "1 == 1 and 2 == 3 #false"
   ]
  }
 ],
 "metadata": {
  "kernelspec": {
   "display_name": "Python 3",
   "language": "python",
   "name": "python3"
  },
  "language_info": {
   "codemirror_mode": {
    "name": "ipython",
    "version": 3
   },
   "file_extension": ".py",
   "mimetype": "text/x-python",
   "name": "python",
   "nbconvert_exporter": "python",
   "pygments_lexer": "ipython3",
   "version": "3.7.3"
  }
 },
 "nbformat": 4,
 "nbformat_minor": 2
}
