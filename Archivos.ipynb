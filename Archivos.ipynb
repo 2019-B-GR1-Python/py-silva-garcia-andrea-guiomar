{
 "cells": [
  {
   "cell_type": "code",
   "execution_count": 30,
   "metadata": {},
   "outputs": [
    {
     "name": "stdout",
     "output_type": "stream",
     "text": [
      "L1:buenos dias\n",
      "\n",
      "L2:buenas tardes\n",
      "\n",
      "L3:buenas nochesBuenas madrugadas\n",
      "\n"
     ]
    }
   ],
   "source": [
    "#archivos\n",
    "try:\n",
    "    path = './frases.txt'\n",
    "    archivo_abierto=open(path)\n",
    "    linea_uno = archivo_abierto.readline()\n",
    "    print(f\"L1:{linea_uno}\")\n",
    "    linea_dos = archivo_abierto.readline()\n",
    "    print(f\"L2:{linea_dos}\")\n",
    "    linea_tres = archivo_abierto.readline()\n",
    "    print(f\"L3:{linea_tres}\")\n",
    "    archivo_abierto.close()\n",
    "except Exception as error:\n",
    "    print(\"ERROR\")"
   ]
  },
  {
   "cell_type": "code",
   "execution_count": 37,
   "metadata": {},
   "outputs": [
    {
     "name": "stdout",
     "output_type": "stream",
     "text": [
      "<class 'list'>\n",
      "buenos dias\n",
      "\n",
      "buenas tardes\n",
      "\n",
      "buenas nochesBuenas madrugadas\n",
      "\n"
     ]
    }
   ],
   "source": [
    "try:\n",
    "    path = './frases.txt'\n",
    "    archivo_abierto=open(path)\n",
    "    contenido = archivo_abierto.readlines()\n",
    "    #print(contenido)\n",
    "    print(type(contenido))\n",
    "    for linea in contenido :\n",
    "        print(linea)\n",
    "    archivo_abierto.close()\n",
    "except Exception as error:\n",
    "        print(\"ERROR\")             "
   ]
  },
  {
   "cell_type": "code",
   "execution_count": 42,
   "metadata": {},
   "outputs": [],
   "source": [
    "try:\n",
    "    path = './frases.txt'\n",
    "    archivo_escritura_abierto = open(path, mode=\"a\")\n",
    "    #a -> append\n",
    "    #w-> write(sobre escribe)\n",
    "    archivo_escritura_abierto.write(\"Buenas madrugadas\\n\")\n",
    "    archivo_escritura_abierto.writelines(\n",
    "        [\"ABC\\n\",\"DEF\\n\"]\n",
    "    )\n",
    "    archivo_escritura_abierto.close()\n",
    "except Exception as error:\n",
    "    print(\"ERROR\")\n",
    "    "
   ]
  }
 ],
 "metadata": {
  "kernelspec": {
   "display_name": "Python 3",
   "language": "python",
   "name": "python3"
  },
  "language_info": {
   "codemirror_mode": {
    "name": "ipython",
    "version": 3
   },
   "file_extension": ".py",
   "mimetype": "text/x-python",
   "name": "python",
   "nbconvert_exporter": "python",
   "pygments_lexer": "ipython3",
   "version": "3.7.3"
  }
 },
 "nbformat": 4,
 "nbformat_minor": 2
}
