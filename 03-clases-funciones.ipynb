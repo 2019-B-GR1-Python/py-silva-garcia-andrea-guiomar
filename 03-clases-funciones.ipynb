{
 "cells": [
  {
   "cell_type": "code",
   "execution_count": 1,
   "metadata": {},
   "outputs": [
    {
     "data": {
      "text/plain": [
       "4"
      ]
     },
     "execution_count": 1,
     "metadata": {},
     "output_type": "execute_result"
    }
   ],
   "source": [
    "def elevar_al_cuadrado(numero):\n",
    "    return numero * numero\n",
    "\n",
    "elevar_al_cuadrado(2)"
   ]
  },
  {
   "cell_type": "code",
   "execution_count": 3,
   "metadata": {},
   "outputs": [],
   "source": [
    "elevar_al_cuadrado_lambda = lambda numero: numero *numero"
   ]
  },
  {
   "cell_type": "code",
   "execution_count": 4,
   "metadata": {},
   "outputs": [
    {
     "data": {
      "text/plain": [
       "4"
      ]
     },
     "execution_count": 4,
     "metadata": {},
     "output_type": "execute_result"
    }
   ],
   "source": [
    "elevar_al_cuadrado_lambda(2)"
   ]
  },
  {
   "cell_type": "code",
   "execution_count": 9,
   "metadata": {},
   "outputs": [],
   "source": [
    "imprimir_lambda = lambda txt: print(f\"mensaje:{txt}\")"
   ]
  },
  {
   "cell_type": "code",
   "execution_count": 10,
   "metadata": {},
   "outputs": [
    {
     "name": "stdout",
     "output_type": "stream",
     "text": [
      "mensaje:HOLA\n"
     ]
    }
   ],
   "source": [
    "imprimir_lambda(\"HOLA\")"
   ]
  },
  {
   "cell_type": "code",
   "execution_count": 11,
   "metadata": {},
   "outputs": [],
   "source": [
    "suma_dos= lambda num1,num2: num1+num2"
   ]
  },
  {
   "cell_type": "code",
   "execution_count": 12,
   "metadata": {},
   "outputs": [
    {
     "data": {
      "text/plain": [
       "5"
      ]
     },
     "execution_count": 12,
     "metadata": {},
     "output_type": "execute_result"
    }
   ],
   "source": [
    "suma_dos(2,3)"
   ]
  },
  {
   "cell_type": "code",
   "execution_count": 14,
   "metadata": {},
   "outputs": [],
   "source": [
    "class nada:\n",
    "    pass"
   ]
  },
  {
   "cell_type": "code",
   "execution_count": 16,
   "metadata": {},
   "outputs": [
    {
     "name": "stdout",
     "output_type": "stream",
     "text": [
      "<__main__.nada object at 0x000002A10890C198>\n",
      "<class '__main__.nada'>\n"
     ]
    }
   ],
   "source": [
    "una_nada= nada()\n",
    "\n",
    "print(una_nada)\n",
    "print(type(una_nada))"
   ]
  },
  {
   "cell_type": "code",
   "execution_count": 45,
   "metadata": {},
   "outputs": [
    {
     "name": "stdout",
     "output_type": "stream",
     "text": [
      "empezo el constructor\n",
      "None\n",
      "<bound method Auto.numero_chasis of <__main__.Auto object at 0x000002A108906B70>>\n"
     ]
    }
   ],
   "source": [
    "class Auto:\n",
    "    color =None\n",
    "    __numero_chasis =1\n",
    "    _emitido= False\n",
    "    def __init__(self, color): #self =this\n",
    "        print(\"empezo el constructor\")\n",
    "        print(self.color)\n",
    "        self.color=color\n",
    "    def __str__(self):\n",
    "        return f\"Color:{self.color}\\n chasis:{self.__numero_chasis}\"\n",
    "    \n",
    "    #funcion publica sin los guines bajos\n",
    "    def numero_chasis(self):\n",
    "        return sefl.__calcular_impuesto()\n",
    "    def __calcular_impuesto():\n",
    "        return f\"impuesto{14*self.__numero_chasis}\"\n",
    "        \n",
    "nuevo_auto= Auto(\"amazul\")\n",
    "\n",
    "#print(nuevo_auto.color)\n",
    "\n",
    "#print(nuevo_auto._Auto__numero_chasis)\n",
    "print(nuevo_auto.numero_chasis)\n"
   ]
  },
  {
   "cell_type": "code",
   "execution_count": 54,
   "metadata": {},
   "outputs": [],
   "source": [
    "class BMW(Auto):\n",
    "    def __init__self(self, color):\n",
    "        print(\"Inicializando BMW\")\n",
    "        super().__init__(color)\n",
    "    \n",
    "    "
   ]
  },
  {
   "cell_type": "code",
   "execution_count": 55,
   "metadata": {},
   "outputs": [
    {
     "name": "stdout",
     "output_type": "stream",
     "text": [
      "empezo el constructor\n",
      "None\n",
      "Color:Blanco\n",
      " chasis:1\n"
     ]
    }
   ],
   "source": [
    "carrito = BMW(\"Blanco\")\n",
    "print(carrito)"
   ]
  },
  {
   "cell_type": "code",
   "execution_count": 73,
   "metadata": {},
   "outputs": [],
   "source": [
    "# funciones dentro de funciones \n",
    "def calculadora(num_uno,num_dos, operacion= 'division'):\n",
    "    def suma():\n",
    "        return num_uno+num_dos\n",
    "    def resta():\n",
    "        return num_uno-num_dos\n",
    "    def multplicacion():\n",
    "        return num_uno*num_dos\n",
    "    def division():\n",
    "        return num_uno/num_dos\n",
    "    def opcion_selccionada():\n",
    "        #uso de diccionario para hacer unswich\n",
    "      \n",
    "      \n",
    "        \n",
    "        opciones={\n",
    "            'suma':suma(),\n",
    "            'resta':resta(),\n",
    "            'multiplicacion':multplicacion(),\n",
    "            'division':division(),\n",
    "        }\n",
    "        \n",
    "        return opciones[operacion]\n",
    "        \n",
    "    return opcion_selccionada()\n",
    "\n",
    "\n",
    "\n",
    "\n",
    "\n",
    "\n",
    "\n"
   ]
  },
  {
   "cell_type": "code",
   "execution_count": 74,
   "metadata": {},
   "outputs": [
    {
     "data": {
      "text/plain": [
       "0.5"
      ]
     },
     "execution_count": 74,
     "metadata": {},
     "output_type": "execute_result"
    }
   ],
   "source": [
    "calculadora(1,2)"
   ]
  },
  {
   "cell_type": "code",
   "execution_count": 75,
   "metadata": {},
   "outputs": [
    {
     "name": "stdout",
     "output_type": "stream",
     "text": [
      "dime tu edad21\n"
     ]
    },
    {
     "data": {
      "text/plain": [
       "'21'"
      ]
     },
     "execution_count": 75,
     "metadata": {},
     "output_type": "execute_result"
    }
   ],
   "source": [
    "input(\"dime tu edad\")"
   ]
  },
  {
   "cell_type": "code",
   "execution_count": null,
   "metadata": {},
   "outputs": [],
   "source": []
  },
  {
   "cell_type": "code",
   "execution_count": null,
   "metadata": {},
   "outputs": [],
   "source": []
  }
 ],
 "metadata": {
  "kernelspec": {
   "display_name": "Python 3",
   "language": "python",
   "name": "python3"
  },
  "language_info": {
   "codemirror_mode": {
    "name": "ipython",
    "version": 3
   },
   "file_extension": ".py",
   "mimetype": "text/x-python",
   "name": "python",
   "nbconvert_exporter": "python",
   "pygments_lexer": "ipython3",
   "version": "3.7.3"
  }
 },
 "nbformat": 4,
 "nbformat_minor": 2
}
