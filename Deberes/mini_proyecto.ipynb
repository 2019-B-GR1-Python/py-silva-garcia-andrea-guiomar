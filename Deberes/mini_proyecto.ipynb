{
 "cells": [
  {
   "cell_type": "code",
   "execution_count": 3,
   "metadata": {},
   "outputs": [],
   "source": [
    "class Vendedor:\n",
    "    def __init__(self, nombre, sueldo, numero_carros, ventas):\n",
    "        self.nombre=nombre\n",
    "        self.sueldo=sueldo\n",
    "        self.numero_carros=numero_carros\n",
    "        self.ventas=ventas\n",
    "    def insertar_vendedor(vendedor):\n",
    "        archivo = open(\"Vendedor.txt\", \"w\")\n",
    "        for nombre, sueldo, numero_carros, ventas in vendedor:\n",
    "            archivo.write(nombre+\",\"+str(sueldo)+\",\"+str(numero_carros)+\",\"+str(ventas)+\"\\\\n\")\n",
    "            print(\"vendedor gurdado\")\n",
    "        archivo.close()\n",
    "\n",
    "    def buscar_vendedor(dato):\n",
    "        vendedor = []\n",
    "        archivo = open(\"Vendedor.txt\", \"r\")\n",
    "        for línea in archivo:\n",
    "            nombre, sueldo, numero_carros, ventas = línea.rstrip(\"\\\\n\").split(\",\")\n",
    "            vendedor.append((nombre, int(sueldo), int(numero_carros), int(ventas)))\n",
    "            value = dato in nombre\n",
    "            print(value)\n",
    "            if value:\n",
    "                \n",
    "                print(\"palabra encontrada\")\n",
    "            \n",
    "        archivo.close()\n",
    "    def eliminar_vendedor(dato):\n",
    "        vendedor = []\n",
    "        archivo = open(\"Vendedor.txt\", \"r\")\n",
    "        for linea in archivo:\n",
    "            nombre, sueldo, numero_carros, ventas = linea.rstrip(\"\\\\n\").split(\",\")\n",
    "            vendedor.append((nombre, int(sueldo), int(numero_carros), int(ventas)))\n",
    "            value = dato in nombre\n",
    "            print(value)\n",
    "            if value:\n",
    "                print(linea.index(nombre))\n",
    "                n= linea.index(nombre)\n",
    "                vendedor.pop(n)\n",
    "                print(\"tupla eliminada\")\n",
    "            \n",
    "        archivo.close()\n",
    "        "
   ]
  },
  {
   "cell_type": "code",
   "execution_count": 12,
   "metadata": {},
   "outputs": [
    {
     "ename": "SyntaxError",
     "evalue": "'break' outside loop (<ipython-input-12-47aafee8267d>, line 13)",
     "output_type": "error",
     "traceback": [
      "\u001b[1;36m  File \u001b[1;32m\"<ipython-input-12-47aafee8267d>\"\u001b[1;36m, line \u001b[1;32m13\u001b[0m\n\u001b[1;33m    print(f\"Resultado-->{Vendedor.buscar_vendedor(busca)}\")\u001b[0m\n\u001b[1;37m           ^\u001b[0m\n\u001b[1;31mSyntaxError\u001b[0m\u001b[1;31m:\u001b[0m 'break' outside loop\n"
     ]
    }
   ],
   "source": [
    "def menu_opciones(opcion):\n",
    "    def ingresar_datos():\n",
    "        nombre= input(\"Ingrese el nombre del vendedor-->\")\n",
    "        sueldo= input(\"Ingrese su sueldo-->\")\n",
    "        numero_carros= input(\"Ingrese numero de carros vendidos-->\")\n",
    "        ventas= input(\"Ingrese el precio de ventas-->\")\n",
    "        vendedor= [(nombre,sueldo,numero_carros, ventas)]\n",
    "        Vendedor.insertar_vendedor(vendedor)\n",
    "        n= int(input(\"¿Cuantos vehiculos vendio\"))\n",
    "        \n",
    "        for i in range(n):\n",
    "            \n",
    "            id_vehiculo= input(\"Ingrese el id del vehiculo-->\")\n",
    "            modelo= input(\"Ingrese el id del vehiculo-->\")\n",
    "            color= input(\"Ingrese el id del vehiculo-->\")\n",
    "            costo= input(\"Ingrese el id del vehiculo-->\")\n",
    "            autos=[(id_vehiculo,modelo,color,costo)]\n",
    "            Vehiculo.insertar_vehiculo(autos)\n",
    "        print(\"Venta insertado correctamente\")\n",
    "\n",
    "        break\n",
    "    def buscar_datos():\n",
    "        busca= input(\"Introduce  el nombre del vendedor que quiere buscar-->\")\n",
    "        print(f\"Resultado-->{Vendedor.buscar_vendedor(busca)}\")\n",
    "        break\n",
    "    def eliminar_datos():\n",
    "        elimina= input(\"Introduce  el nombre del vendedor que quiere eliminar-->\")\n",
    "        print(f\"Resultado-->{Vendedor.eliminar_vendedor(elimina)}\") \n",
    "        break\n",
    "    def opcion_selccionada():\n",
    "        opciones={\n",
    "            'ingresar':ingresar_datos(),\n",
    "            'buscar':buscar_datos(),\n",
    "            'eliminar': eliminar_datos(),\n",
    "        }\n",
    "        \n",
    "        return opciones[opcion]\n",
    "    \n",
    "    return opcion_selccionada()\n",
    "        \n",
    "         "
   ]
  },
  {
   "cell_type": "code",
   "execution_count": 4,
   "metadata": {},
   "outputs": [],
   "source": [
    "def opciones():\n",
    "    print(\"-------------------------MENU DE OPCIONES:--------------\")\n",
    "    print(\"         1.- INGRESAR\"\n",
    "                    \"2.- BUSCAR\"\n",
    "                    \"3.- ELIMINAR\"\n",
    "                     \"4.- MODIFICAR\")\n",
    "    opc= input(\"Escoja una opcion\")\n",
    "    if opc == '1':\n",
    "        menu_opciones('ingresar')\n",
    "    else:\n",
    "        if opc == '2':\n",
    "            menu_opciones('buscar')\n",
    "        else:\n",
    "            if opc == '3':\n",
    "                menu_opciones('eliminar')\n",
    "            else:\n",
    "                menu_opciones('modificar')"
   ]
  },
  {
   "cell_type": "code",
   "execution_count": 5,
   "metadata": {},
   "outputs": [
    {
     "name": "stdout",
     "output_type": "stream",
     "text": [
      "-------------------------MENU DE OPCIONES:--------------\n",
      "         1.- INGRESAR2.- BUSCAR3.- ELIMINAR4.- MODIFICAR\n",
      "Escoja una opcion1\n"
     ]
    },
    {
     "ename": "NameError",
     "evalue": "name 'menu_opciones' is not defined",
     "output_type": "error",
     "traceback": [
      "\u001b[1;31m---------------------------------------------------------------------------\u001b[0m",
      "\u001b[1;31mNameError\u001b[0m                                 Traceback (most recent call last)",
      "\u001b[1;32m<ipython-input-5-b8adadbf0206>\u001b[0m in \u001b[0;36m<module>\u001b[1;34m\u001b[0m\n\u001b[1;32m----> 1\u001b[1;33m \u001b[0mopciones\u001b[0m\u001b[1;33m(\u001b[0m\u001b[1;33m)\u001b[0m\u001b[1;33m\u001b[0m\u001b[1;33m\u001b[0m\u001b[0m\n\u001b[0m",
      "\u001b[1;32m<ipython-input-4-0cb850733039>\u001b[0m in \u001b[0;36mopciones\u001b[1;34m()\u001b[0m\n\u001b[0;32m      7\u001b[0m     \u001b[0mopc\u001b[0m\u001b[1;33m=\u001b[0m \u001b[0minput\u001b[0m\u001b[1;33m(\u001b[0m\u001b[1;34m\"Escoja una opcion\"\u001b[0m\u001b[1;33m)\u001b[0m\u001b[1;33m\u001b[0m\u001b[1;33m\u001b[0m\u001b[0m\n\u001b[0;32m      8\u001b[0m     \u001b[1;32mif\u001b[0m \u001b[0mopc\u001b[0m \u001b[1;33m==\u001b[0m \u001b[1;34m'1'\u001b[0m\u001b[1;33m:\u001b[0m\u001b[1;33m\u001b[0m\u001b[1;33m\u001b[0m\u001b[0m\n\u001b[1;32m----> 9\u001b[1;33m         \u001b[0mmenu_opciones\u001b[0m\u001b[1;33m(\u001b[0m\u001b[1;34m'ingresar'\u001b[0m\u001b[1;33m)\u001b[0m\u001b[1;33m\u001b[0m\u001b[1;33m\u001b[0m\u001b[0m\n\u001b[0m\u001b[0;32m     10\u001b[0m     \u001b[1;32melse\u001b[0m\u001b[1;33m:\u001b[0m\u001b[1;33m\u001b[0m\u001b[1;33m\u001b[0m\u001b[0m\n\u001b[0;32m     11\u001b[0m         \u001b[1;32mif\u001b[0m \u001b[0mopc\u001b[0m \u001b[1;33m==\u001b[0m \u001b[1;34m'2'\u001b[0m\u001b[1;33m:\u001b[0m\u001b[1;33m\u001b[0m\u001b[1;33m\u001b[0m\u001b[0m\n",
      "\u001b[1;31mNameError\u001b[0m: name 'menu_opciones' is not defined"
     ]
    }
   ],
   "source": [
    "opciones()"
   ]
  },
  {
   "cell_type": "code",
   "execution_count": 157,
   "metadata": {
    "scrolled": true
   },
   "outputs": [],
   "source": [
    "def guardar_vendedor(vendedor):\n",
    "    archivo = open(\"Vendedor.txt\", \"w\")\n",
    "    for nombre, sueldo, numero_carros, ventas in vendedor:\n",
    "        archivo.write(nombre+\",\"+str(sueldo)+\",\"+str(numero_carros)+\",\"+str(ventas)+\"\\\\n\")\n",
    "        \n",
    "    print(\"vendedor gurdado\")\n",
    "    archivo.close()\n"
   ]
  },
  {
   "cell_type": "code",
   "execution_count": 159,
   "metadata": {},
   "outputs": [
    {
     "name": "stdout",
     "output_type": "stream",
     "text": [
      "vendedor gurdado\n"
     ]
    }
   ],
   "source": [
    "vendedor1=[(\"Jose\",2500,50,4300)]\n",
    "guardar_vendedor(vendedor1)\n"
   ]
  },
  {
   "cell_type": "code",
   "execution_count": 206,
   "metadata": {},
   "outputs": [],
   "source": [
    "    def recuperar_vendedor():\n",
    "        vendedor = []\n",
    "        archivo = open(\"Vendedor.txt\", \"r\")\n",
    "        for linea in archivo:\n",
    "            nombre, sueldo, numero_carros, ventas = linea.rstrip(\"\\\\n\").split(\",\")\n",
    "            vendedor.append((nombre, int(sueldo), int(numero_carros), int(ventas)))\n",
    "            value = 'Jose' in nombre\n",
    "            print(value)\n",
    "            if value:\n",
    "                print(linea.index(nombre))\n",
    "                n= linea.index(nombre)\n",
    "                vendedor.pop(n)\n",
    "                print(\"tupla eliminada\")\n",
    "            \n",
    "        archivo.close()\n",
    "        return vendedor"
   ]
  },
  {
   "cell_type": "code",
   "execution_count": 207,
   "metadata": {},
   "outputs": [
    {
     "name": "stdout",
     "output_type": "stream",
     "text": [
      "True\n",
      "0\n",
      "palabra encontrad\n",
      "[]\n",
      "0\n"
     ]
    }
   ],
   "source": [
    "x= recuperar_vendedor()\n",
    "print(x)\n",
    "print(len(x))\n"
   ]
  },
  {
   "cell_type": "code",
   "execution_count": 145,
   "metadata": {},
   "outputs": [
    {
     "name": "stdout",
     "output_type": "stream",
     "text": [
      "<class 'list'>\n",
      "entro\n",
      "lista eliminada\n"
     ]
    }
   ],
   "source": [
    "archivo= open(\"Vendedor.txt\",\"r+\")\n",
    "lines= archivo.readlines()\n",
    "print(type(lines))\n",
    "for i in lines:\n",
    "    value= '2500' in i\n",
    "    if value:\n",
    "        print(\"entro\")\n",
    "        lines.clear\n",
    "        archivo.writelines(lines)\n",
    "        archivo.seek(0)\n",
    "print(\"lista eliminada\")\n",
    "\n",
    "archivo.close()"
   ]
  },
  {
   "cell_type": "code",
   "execution_count": 139,
   "metadata": {},
   "outputs": [
    {
     "name": "stdout",
     "output_type": "stream",
     "text": [
      "['Jose  2500  78  5900 Jose  2500  78  5900 ']\n",
      "6\n"
     ]
    },
    {
     "ename": "ValueError",
     "evalue": "list.remove(x): x not in list",
     "output_type": "error",
     "traceback": [
      "\u001b[1;31m---------------------------------------------------------------------------\u001b[0m",
      "\u001b[1;31mValueError\u001b[0m                                Traceback (most recent call last)",
      "\u001b[1;32m<ipython-input-139-985ead4a127f>\u001b[0m in \u001b[0;36m<module>\u001b[1;34m\u001b[0m\n\u001b[0;32m      7\u001b[0m         \u001b[0mx\u001b[0m\u001b[1;33m=\u001b[0m \u001b[0mi\u001b[0m\u001b[1;33m.\u001b[0m\u001b[0mindex\u001b[0m\u001b[1;33m(\u001b[0m\u001b[1;34m'2500'\u001b[0m\u001b[1;33m)\u001b[0m\u001b[1;33m\u001b[0m\u001b[1;33m\u001b[0m\u001b[0m\n\u001b[0;32m      8\u001b[0m         \u001b[0mprint\u001b[0m\u001b[1;33m(\u001b[0m\u001b[0mx\u001b[0m\u001b[1;33m)\u001b[0m\u001b[1;33m\u001b[0m\u001b[1;33m\u001b[0m\u001b[0m\n\u001b[1;32m----> 9\u001b[1;33m         \u001b[0mlines\u001b[0m\u001b[1;33m.\u001b[0m\u001b[0mremove\u001b[0m\u001b[1;33m(\u001b[0m\u001b[1;34m'2500'\u001b[0m\u001b[1;33m)\u001b[0m\u001b[1;33m\u001b[0m\u001b[1;33m\u001b[0m\u001b[0m\n\u001b[0m\u001b[0;32m     10\u001b[0m         \u001b[0mlines\u001b[0m\u001b[1;33m.\u001b[0m\u001b[0minsert\u001b[0m\u001b[1;33m(\u001b[0m\u001b[0mx\u001b[0m\u001b[1;33m,\u001b[0m\u001b[1;34m'4500'\u001b[0m\u001b[1;33m)\u001b[0m\u001b[1;33m\u001b[0m\u001b[1;33m\u001b[0m\u001b[0m\n\u001b[0;32m     11\u001b[0m         \u001b[0marchivo\u001b[0m\u001b[1;33m.\u001b[0m\u001b[0mwritelines\u001b[0m\u001b[1;33m(\u001b[0m\u001b[0mlines\u001b[0m\u001b[1;33m)\u001b[0m\u001b[1;33m\u001b[0m\u001b[1;33m\u001b[0m\u001b[0m\n",
      "\u001b[1;31mValueError\u001b[0m: list.remove(x): x not in list"
     ]
    }
   ],
   "source": [
    "archivo= open(\"Vendedor.txt\",\"r+\")\n",
    "lines= archivo.readlines()\n",
    "print(lines)\n",
    "for i in lines:\n",
    "    value= '2500' in i\n",
    "    if value:\n",
    "        x= i.index('2500')\n",
    "        print(x)\n",
    "        lines.remove('2500')\n",
    "        lines.insert(x,'4500')\n",
    "        archivo.writelines(lines)\n",
    "        archivo.seek(0)\n",
    "\n",
    "archivo.close()"
   ]
  },
  {
   "cell_type": "code",
   "execution_count": 13,
   "metadata": {},
   "outputs": [],
   "source": [
    "class Vehiculo:\n",
    "    def __init__(self, id_vehiculo, modelo, color, costo):\n",
    "        self.id_vehiculo=id_vehiculo\n",
    "        self.modelo=modelo\n",
    "        self.color=color\n",
    "        self.costo=costo\n",
    "    def insertar_vehiculo(vehiculo):\n",
    "        archivo = open(\"Vehiculo.txt\", \"a\")\n",
    "        for id_vehiculo, modelo, color, costo in vendedor:\n",
    "            archivo.write(str(id_vehiculo)+\",\"+modeloelo+\",\"+color+\",\"+str(costo)+\"\\\\n\")\n",
    "            print(\"vehiculo gurdado\")\n",
    "        archivo.close()\n",
    "\n",
    "    def buscar_vehiculo(dato):\n",
    "        vehiculo = []\n",
    "        archivo = open(\"Vehiculo.txt\", \"r\")\n",
    "        for línea in archivo:\n",
    "            id_vehiculo, modelo, color, costo = línea.rstrip(\"\\\\n\").split(\",\")\n",
    "            vendedor.append((int(id_vehiculo),modelo, color, float(costo)))\n",
    "            value = dato in modelo\n",
    "            print(value)\n",
    "            if value:\n",
    "                \n",
    "                print(\"palabra encontrada\")\n",
    "            \n",
    "        archivo.close()\n",
    "    def eliminar_vehiculo(dato):\n",
    "        vehiculo = []\n",
    "        archivo = open(\"Vendedor.txt\", \"r\")\n",
    "        for linea in archivo:\n",
    "            id_vehiculo, modelo, color, costo = linea.rstrip(\"\\\\n\").split(\",\")\n",
    "            vendedor.append((int(id_vehiculo),modelo, color, float(costo)))\n",
    "            value = dato in modelo\n",
    "            print(value)\n",
    "            if value:\n",
    "                print(linea.index(nombre))\n",
    "                n= linea.index(nombre)\n",
    "                vendedor.pop(n)\n",
    "                print(\"tupla eliminada\")\n",
    "            \n",
    "        archivo.close()\n",
    "        "
   ]
  },
  {
   "cell_type": "code",
   "execution_count": 140,
   "metadata": {},
   "outputs": [],
   "source": [
    "archivo= open(\"vehiculo.txt\",\"w\")\n",
    "vendedor={'color':\"Rojo\",'fecha_venta':'2019-10-25','costo':6500,'cantidad':30}\n",
    "\n",
    "archivo.writelines('% s '%vendedor.get('color'))\n",
    "archivo.writelines(' % s '%vendedor.get('fecha_venta'))\n",
    "archivo.writelines(' % s '%vendedor.get('costo'))\n",
    "archivo.writelines(' % s '%vendedor.get('cantidad'))\n",
    "\n",
    "archivo.close()"
   ]
  },
  {
   "cell_type": "code",
   "execution_count": null,
   "metadata": {},
   "outputs": [],
   "source": []
  }
 ],
 "metadata": {
  "kernelspec": {
   "display_name": "Python 3",
   "language": "python",
   "name": "python3"
  },
  "language_info": {
   "codemirror_mode": {
    "name": "ipython",
    "version": 3
   },
   "file_extension": ".py",
   "mimetype": "text/x-python",
   "name": "python",
   "nbconvert_exporter": "python",
   "pygments_lexer": "ipython3",
   "version": "3.7.3"
  }
 },
 "nbformat": 4,
 "nbformat_minor": 2
}
