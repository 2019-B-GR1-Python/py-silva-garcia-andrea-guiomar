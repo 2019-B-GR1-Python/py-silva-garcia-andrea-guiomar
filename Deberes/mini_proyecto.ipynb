{
 "cells": [
  {
   "cell_type": "code",
   "execution_count": 93,
   "metadata": {},
   "outputs": [],
   "source": [
    "class Vendedor:\n",
    "    def __init__(self, nombre, sueldo, numero_carros, ventas):\n",
    "        self.nombre=nombre\n",
    "        self.sueldo=sueldo\n",
    "        self.numero_carros=numero_carros\n",
    "        self.ventas=ventas\n",
    "    def insertar_vendedor(nombre, sueldo, numero_carros, ventas):\n",
    "        archivo= open(\"Vendedor.txt\",\"w\")\n",
    "        archivo.writelines('nombre= % s'%vendedor.setdefault('nombre',nombre))\n",
    "        archivo.writelines('sueldo= % s'%vendedor.setdefault('sueldo',sueldo))\n",
    "        archivo.writelines('numero= % s'%vendedor.setdefault('numero_carros',numero_carros))\n",
    "        archivo.writelines('venta= % s'%vendedor.setdefault('ventas',ventas))\n",
    "        archivo.close()\n",
    "    def buscar_vendedor(dato):\n",
    "        archivo= open(\"Vendedor.txt\",\"r\")\n",
    "        lines= archivo.readlines()\n",
    "        print(type(lines))\n",
    "        for i in lines:\n",
    "            value= dato in i\n",
    "            if value:\n",
    "                print(\"palabra encontrada\")\n",
    "        archivo.close()\n",
    "    def eliminar_vendedor(dato):\n",
    "        archivo= open(\"Vendedor.txt\",\"r+\")\n",
    "        lines= archivo.readlines()\n",
    "        print(type(lines))\n",
    "        for i in lines:\n",
    "            value= dato in i\n",
    "            if value:\n",
    "                lines.clear()\n",
    "                archivo.writelines(lines)\n",
    "                archivo.seek(0)\n",
    "        print(\"lista eliminada\")\n",
    "        archivo.close()\n",
    "        "
   ]
  },
  {
   "cell_type": "code",
   "execution_count": null,
   "metadata": {},
   "outputs": [],
   "source": [
    "def menu_opciones(opcion)\n",
    "    def ingresar_datos():\n",
    "        nombre= input(\"Ingrese el nombre del vendedor-->\")\n",
    "        sueldo= input(\"Ingrese su sueldo-->\")\n",
    "        numero_carros= input(\"Ingrese numero de carros vendidos-->\")\n",
    "        ventas= input(\"Ingrese el precio de ventas-->\")\n",
    "        Vendedor.insertar_vendedor(nombre,sueldo,numero_carros,ventas)\n",
    "        print(\"Vendedor insertado correctamente\")\n",
    "    def buscar_datos():\n",
    "        busca= input(\"Introduce lo que quieras buscar-->\")\n",
    "        print(f\"Resultado-->{Vendedor.buscar_vendedor}\")\n",
    "    def eliminar_datos():\n",
    "        elimina= input(\"Introduce el registro que desee eliminar-->\")\n",
    "        print(f\"Resultado-->{Vendedor.eliminar_vendedor}\") \n",
    "        \n",
    "         "
   ]
  },
  {
   "cell_type": "code",
   "execution_count": 95,
   "metadata": {
    "scrolled": true
   },
   "outputs": [],
   "source": [
    "archivo= open(\"Vendedor.txt\",\"w\")\n",
    "vendedor={'nombre':\"Jose\"],'sueldo':[2500],'numero_carros':[78],'ventas':[5900]}\n",
    "\n",
    "archivo.writelines('% s'%vendedor.get('nombre'))\n",
    "archivo.writelines('% s'%vendedor.get('sueldo'))\n",
    "archivo.writelines('% s'%vendedor.get('numero_carros'))\n",
    "archivo.writelines('% s'%vendedor.get('ventas'))\n",
    "\n",
    "archivo.close()"
   ]
  },
  {
   "cell_type": "code",
   "execution_count": 102,
   "metadata": {},
   "outputs": [
    {
     "name": "stdout",
     "output_type": "stream",
     "text": [
      "[\"['Jose'][2500][78][5900]\"]\n",
      "palabra encontrada\n"
     ]
    }
   ],
   "source": [
    "archivo= open(\"Vendedor.txt\",\"r\")\n",
    "lines= archivo.readlines()\n",
    "print(lines)\n",
    "for i in lines:\n",
    "    value= '5900' in i\n",
    "    if value:\n",
    "        print(\"palabra encontrada\")\n",
    "\n",
    "archivo.close()"
   ]
  },
  {
   "cell_type": "code",
   "execution_count": 92,
   "metadata": {},
   "outputs": [
    {
     "name": "stdout",
     "output_type": "stream",
     "text": [
      "<class 'list'>\n",
      "lista eliminada\n"
     ]
    }
   ],
   "source": [
    "archivo= open(\"Vendedor.txt\",\"r+\")\n",
    "lines= archivo.readlines()\n",
    "print(type(lines))\n",
    "for i in lines:\n",
    "    value= '2500' in i\n",
    "    if value:\n",
    "        lines.clear()\n",
    "        archivo.writelines(lines)\n",
    "        archivo.seek(0)\n",
    "print(\"lista eliminada\")\n",
    "\n",
    "archivo.close()"
   ]
  },
  {
   "cell_type": "code",
   "execution_count": 121,
   "metadata": {},
   "outputs": [
    {
     "name": "stdout",
     "output_type": "stream",
     "text": [
      "[\"['Jose'][2500][78][5900]\"]\n",
      "[\"['Jose'][2500][78][5900]\", '2500']\n"
     ]
    }
   ],
   "source": [
    "archivo= open(\"Vendedor.txt\",\"r+\")\n",
    "lines= archivo.readlines()\n",
    "print(lines)\n",
    "for i in lines:\n",
    "    value= '2500' in i\n",
    "    if value:\n",
    "        x= i.index('2500')\n",
    "        lines.extend(['2500'])\n",
    "        print(lines)\n",
    "        lines.remove('2500')\n",
    "        lines.insert(x,'4500')\n",
    "        archivo.writelines(lines)\n",
    "        archivo.seek(0)\n",
    "\n",
    "archivo.close()"
   ]
  },
  {
   "cell_type": "code",
   "execution_count": 104,
   "metadata": {},
   "outputs": [],
   "source": [
    "class Vehiculo:\n",
    "    def __init__(self, color, fecha_venta, costo, cantidad):\n",
    "        self.color= color\n",
    "        self.fecha_venta= fecha_venta\n",
    "        self.costo= costo\n",
    "        self.cantidad= cantidad"
   ]
  },
  {
   "cell_type": "code",
   "execution_count": null,
   "metadata": {},
   "outputs": [],
   "source": []
  }
 ],
 "metadata": {
  "kernelspec": {
   "display_name": "Python 3",
   "language": "python",
   "name": "python3"
  },
  "language_info": {
   "codemirror_mode": {
    "name": "ipython",
    "version": 3
   },
   "file_extension": ".py",
   "mimetype": "text/x-python",
   "name": "python",
   "nbconvert_exporter": "python",
   "pygments_lexer": "ipython3",
   "version": "3.7.3"
  }
 },
 "nbformat": 4,
 "nbformat_minor": 2
}
