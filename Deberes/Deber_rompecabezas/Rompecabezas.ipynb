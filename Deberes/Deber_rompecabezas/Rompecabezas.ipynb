{
 "cells": [
  {
   "cell_type": "code",
   "execution_count": null,
   "metadata": {},
   "outputs": [],
   "source": [
    "import numpy as np\n",
    "import matplotlib.pyplot as plt\n",
    "from scipy import ndimage\n",
    "from scipy import misc\n",
    "\n",
    "mapache = misc.face()\n",
    "rompecabezas = []\n",
    "\n",
    "def partes_4(imagen):\n",
    "    global rompecabezas\n",
    "    arr1, arr2 = np.hsplit(mapache,2)\n",
    "    arr1,arr3= np.split(arr1,2)\n",
    "    arr2,arr4= np.split(arr2,2)\n",
    "\n",
    "\n",
    "    rompecabezas.append(arr1)\n",
    "    rompecabezas.append(arr2)\n",
    "    rompecabezas.append(arr3)\n",
    "    rompecabezas.append(arr4)\n",
    "    dibujar(rompecabezas,\"---ORIGINAL---\")\t\n",
    "\n",
    "def dibujar(lista_rompecabezas, titulo):\n",
    "    fig, axs = plt.subplots(2, 2, sharex='col', sharey='row',\n",
    "                        gridspec_kw={'hspace': 0, 'wspace': 0})\n",
    "    (ax1, ax2), (ax3, ax4) = axs\n",
    "    fig.suptitle(titulo)\n",
    "    axs[0, 0].imshow(lista_rompecabezas[0])\n",
    "    axs[0, 1].imshow(lista_rompecabezas[2])\n",
    "    axs[1, 0].imshow(lista_rompecabezas[1])\n",
    "    axs[1, 1].imshow(lista_rompecabezas[3])\n",
    "    for ax in fig.get_axes():\n",
    "        ax.label_outer()\n",
    "    plt.show\n"
   ]
  },
  {
   "cell_type": "code",
   "execution_count": null,
   "metadata": {},
   "outputs": [],
   "source": [
    "partes_4(mapache)"
   ]
  },
  {
   "cell_type": "code",
   "execution_count": null,
   "metadata": {},
   "outputs": [],
   "source": [
    "import numpy as np\n",
    "import matplotlib.pyplot as plt\n",
    "import time\n",
    "from scipy import ndimage\n",
    "from scipy import misc\n",
    "from skimage import data\n",
    "\n",
    "\n",
    "def dividir_imagen():\n",
    "    print(\"**************ROMPECABEZAS MAPACHE ^.^***********************************\")\n",
    "    m = misc.face()\n",
    "    #dibujo=[]\n",
    "    #print(imagen.shape)\n",
    "\n",
    "    espacio1, espacio2, espacio3, espacio= np.vsplit(m,4)\n",
    "    rompecabezas=np.array([np.hsplit(espacio1,4),np.hsplit(espacio2,4),np.hsplit(espacio3,4),np.hsplit(espacio,4)])\n",
    "    #print(rompecabezas.shape)\n",
    "    print(\"Se mostrar a continuacion la imagen dividia y como debe quedarr\")\n",
    "    armar_rompe(rompecabezas)\n",
    "\n",
    "\n",
    "   \n",
    "    #plt.axis('off')\n",
    "\n",
    "    \n",
    "    armar(rompecabezas)\n",
    "def armar_rompe(rompecabezas):\n",
    "    #print(\"entra a armar rompe\")\n",
    "    print(rompecabezas.shape)\n",
    "    m = misc.face()\n",
    "    parte1=np.hstack([np.vstack(rompecabezas[0,:,:,:,:]),np.vstack(rompecabezas[1,:,:,:,:]),np.vstack(rompecabezas[2,:,:,:,:]),np.vstack(rompecabezas[3,:,:,:,:])])\n",
    "    plt.subplot(131)\n",
    "    plt.imshow(m)\n",
    "    plt.subplot(133)\n",
    "    plt.imshow(parte1)\n",
    "  \n",
    "    plt.pause(1)\n",
    "    \n",
    "def armar(dibujo):\n",
    "    while True:\n",
    "        actual =dibujo\n",
    "        m = misc.face()\n",
    "        opc1=int(input(\"Ingrese la pieza que quiere cambiarlo se permite un rango de 0-15---->\"))\n",
    "        opc2=int(input(\"Ingrese la posicion del cambio solo se permite un rango de 0-15---->\"))\n",
    "        auxiliar = np.copy(actual[int(opc1/4), opc1%4])\n",
    "        actual[int(opc1/4), opc1%4] = actual[int(opc2/4), opc2%4]\n",
    "        actual[int(opc2/4), opc2%4] = np.copy(auxiliar)\n",
    "        print(actual.shape)\n",
    "        armar_rompe(actual)\n",
    "        if(np.array_equal(actual, m)):\n",
    "            break\n",
    "\n"
   ]
  },
  {
   "cell_type": "code",
   "execution_count": null,
   "metadata": {},
   "outputs": [],
   "source": [
    "dividir_imagen()"
   ]
  },
  {
   "cell_type": "code",
   "execution_count": null,
   "metadata": {},
   "outputs": [],
   "source": [
    "import numpy as np\n",
    "import matplotlib.pyplot as plt\n",
    "from scipy import ndimage\n",
    "from scipy import misc\n",
    "from skimage import data\n",
    "#image = data.camera()\n",
    "m = misc.face()\n",
    "#plt.imshow(image)\n",
    "plt.imshow(m)\n",
    "   "
   ]
  },
  {
   "cell_type": "code",
   "execution_count": null,
   "metadata": {},
   "outputs": [],
   "source": []
  },
  {
   "cell_type": "code",
   "execution_count": null,
   "metadata": {},
   "outputs": [],
   "source": []
  },
  {
   "cell_type": "code",
   "execution_count": null,
   "metadata": {},
   "outputs": [],
   "source": []
  },
  {
   "cell_type": "code",
   "execution_count": null,
   "metadata": {},
   "outputs": [],
   "source": []
  }
 ],
 "metadata": {
  "kernelspec": {
   "display_name": "Python 3",
   "language": "python",
   "name": "python3"
  },
  "language_info": {
   "codemirror_mode": {
    "name": "ipython",
    "version": 3
   },
   "file_extension": ".py",
   "mimetype": "text/x-python",
   "name": "python",
   "nbconvert_exporter": "python",
   "pygments_lexer": "ipython3",
   "version": "3.7.3"
  }
 },
 "nbformat": 4,
 "nbformat_minor": 2
}
